{
 "cells": [
  {
   "cell_type": "code",
   "execution_count": 37,
   "id": "2566e0da-82d9-44cd-84a4-17c0e691fa7d",
   "metadata": {},
   "outputs": [],
   "source": [
    "from sec_api import QueryApi\n",
    "import pandas as pd"
   ]
  },
  {
   "cell_type": "code",
   "execution_count": 35,
   "id": "599ecbf9-2e26-4be9-845b-9b9ab346b44e",
   "metadata": {},
   "outputs": [],
   "source": [
    "queryApi = QueryApi(api_key=\"0ff9a3e18248ef543b55772001f751f3d5b0546864df56d5fc37286cd2fddea9\")"
   ]
  },
  {
   "cell_type": "code",
   "execution_count": 47,
   "id": "47e46bfa-c4f4-4d3f-b241-5af0b8eca465",
   "metadata": {},
   "outputs": [],
   "source": [
    "def get_filings(query):\n",
    "    \n",
    "    from_param = 0\n",
    "    size_param = 200\n",
    "    all_filings = []\n",
    "\n",
    "    i = 0\n",
    "    while i < 90: # hand-wavy approach to avoid hitting maximum limit of free queries\n",
    "        query['from'] = from_param\n",
    "        query['size'] = size_param\n",
    "    \n",
    "        response = queryApi.get_filings(query)\n",
    "        filings = response['filings']\n",
    "\n",
    "        if len(filings) == 0:\n",
    "            break\n",
    "\n",
    "        all_filings.extend(filings)\n",
    "        from_param += size_param\n",
    "\n",
    "        i += 1\n",
    "\n",
    "    return pd.json_normalize(all_filings)\n",
    "\n",
    "\n",
    "query = {\n",
    "    \"query\": \"formType: \\\"10-K\\\" AND filedAt:[2014-01-01 TO 2024-01-01]\",\n",
    "    \"sort\": [{ \"filedAt\": { \"order\": \"desc\" } }]\n",
    "}"
   ]
  },
  {
   "cell_type": "code",
   "execution_count": 48,
   "id": "32035eb1-f60e-460f-b489-42a3ea4aa697",
   "metadata": {},
   "outputs": [],
   "source": [
    "filings = get_filings(query)"
   ]
  },
  {
   "cell_type": "code",
   "execution_count": 61,
   "id": "82d1e30e-7116-4e2a-b7c8-6f7f5421d2d7",
   "metadata": {},
   "outputs": [
    {
     "data": {
      "text/plain": [
       "[{'sequence': '11',\n",
       "  'description': 'XBRL TAXONOMY EXTENSION SCHEMA DOCUMENT',\n",
       "  'documentUrl': 'https://www.sec.gov/Archives/edgar/data/90168/000009016823000083/sif-20230930.xsd',\n",
       "  'type': 'EX-101.SCH',\n",
       "  'size': '78835'},\n",
       " {'sequence': '12',\n",
       "  'description': 'XBRL TAXONOMY EXTENSION CALCULATION LINKBASE DOCUMENT',\n",
       "  'documentUrl': 'https://www.sec.gov/Archives/edgar/data/90168/000009016823000083/sif-20230930_cal.xml',\n",
       "  'type': 'EX-101.CAL',\n",
       "  'size': '126326'},\n",
       " {'sequence': '13',\n",
       "  'description': 'XBRL TAXONOMY EXTENSION DEFINITION LINKBASE DOCUMENT',\n",
       "  'documentUrl': 'https://www.sec.gov/Archives/edgar/data/90168/000009016823000083/sif-20230930_def.xml',\n",
       "  'type': 'EX-101.DEF',\n",
       "  'size': '338719'},\n",
       " {'sequence': '14',\n",
       "  'description': 'XBRL TAXONOMY EXTENSION LABEL LINKBASE DOCUMENT',\n",
       "  'documentUrl': 'https://www.sec.gov/Archives/edgar/data/90168/000009016823000083/sif-20230930_lab.xml',\n",
       "  'type': 'EX-101.LAB',\n",
       "  'size': '976343'},\n",
       " {'sequence': '15',\n",
       "  'description': 'XBRL TAXONOMY EXTENSION PRESENTATION LINKBASE DOCUMENT',\n",
       "  'documentUrl': 'https://www.sec.gov/Archives/edgar/data/90168/000009016823000083/sif-20230930_pre.xml',\n",
       "  'type': 'EX-101.PRE',\n",
       "  'size': '629739'},\n",
       " {'sequence': '99',\n",
       "  'description': 'EXTRACTED XBRL INSTANCE DOCUMENT',\n",
       "  'documentUrl': 'https://www.sec.gov/Archives/edgar/data/90168/000009016823000083/sif-20230930_htm.xml',\n",
       "  'type': 'XML',\n",
       "  'size': '1757844'}]"
      ]
     },
     "execution_count": 61,
     "metadata": {},
     "output_type": "execute_result"
    }
   ],
   "source": [
    "filings[\"dataFiles\"].iloc[1]"
   ]
  }
 ],
 "metadata": {
  "kernelspec": {
   "display_name": "Python 3 (ipykernel)",
   "language": "python",
   "name": "python3"
  },
  "language_info": {
   "codemirror_mode": {
    "name": "ipython",
    "version": 3
   },
   "file_extension": ".py",
   "mimetype": "text/x-python",
   "name": "python",
   "nbconvert_exporter": "python",
   "pygments_lexer": "ipython3",
   "version": "3.11.7"
  }
 },
 "nbformat": 4,
 "nbformat_minor": 5
}
