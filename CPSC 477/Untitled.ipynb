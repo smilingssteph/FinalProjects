{
 "cells": [
  {
   "cell_type": "code",
   "execution_count": 1,
   "id": "2566e0da-82d9-44cd-84a4-17c0e691fa7d",
   "metadata": {},
   "outputs": [],
   "source": [
    "from sec_api import QueryApi\n",
    "import pandas as pd"
   ]
  },
  {
   "cell_type": "code",
   "execution_count": 10,
   "id": "599ecbf9-2e26-4be9-845b-9b9ab346b44e",
   "metadata": {},
   "outputs": [],
   "source": [
    "queryApi = QueryApi(api_key=\"13a1148429fc9b8156c0d7cad4804e5f133a5d3d7312808ab049911cd4f72e6c\")"
   ]
  },
  {
   "cell_type": "code",
   "execution_count": 13,
   "id": "47e46bfa-c4f4-4d3f-b241-5af0b8eca465",
   "metadata": {},
   "outputs": [],
   "source": [
    "def get_filings(query):\n",
    "    \n",
    "    from_param = 0\n",
    "    size_param = 200\n",
    "    all_filings = []\n",
    "\n",
    "    while True: # hand-wavy approach to avoid hitting maximum limit of free queries\n",
    "        query['from'] = from_param\n",
    "        query['size'] = size_param\n",
    "    \n",
    "        response = queryApi.get_filings(query)\n",
    "        filings = response['filings']\n",
    "\n",
    "        if len(filings) == 0:\n",
    "            break\n",
    "\n",
    "        all_filings.extend(filings)\n",
    "        from_param += size_param\n",
    "\n",
    "    return pd.json_normalize(all_filings)\n",
    "\n",
    "\n",
    "query = {\n",
    "    \"query\": \"formType: \\\"10-K\\\" AND filedAt:[2014-01-01 TO 2024-01-01]\",\n",
    "    \"sort\": [{ \"filedAt\": { \"order\": \"desc\" } }]\n",
    "}"
   ]
  },
  {
   "cell_type": "code",
   "execution_count": 8,
   "id": "32035eb1-f60e-460f-b489-42a3ea4aa697",
   "metadata": {
    "scrolled": true
   },
   "outputs": [],
   "source": [
    "filings = get_filings(query)"
   ]
  },
  {
   "cell_type": "code",
   "execution_count": 9,
   "id": "82d1e30e-7116-4e2a-b7c8-6f7f5421d2d7",
   "metadata": {},
   "outputs": [
    {
     "data": {
      "text/plain": [
       "400"
      ]
     },
     "execution_count": 9,
     "metadata": {},
     "output_type": "execute_result"
    }
   ],
   "source": [
    "len(filings)"
   ]
  }
 ],
 "metadata": {
  "kernelspec": {
   "display_name": "Python 3 (ipykernel)",
   "language": "python",
   "name": "python3"
  },
  "language_info": {
   "codemirror_mode": {
    "name": "ipython",
    "version": 3
   },
   "file_extension": ".py",
   "mimetype": "text/x-python",
   "name": "python",
   "nbconvert_exporter": "python",
   "pygments_lexer": "ipython3",
   "version": "3.11.7"
  }
 },
 "nbformat": 4,
 "nbformat_minor": 5
}
