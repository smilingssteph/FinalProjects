{
 "cells": [
  {
   "cell_type": "markdown",
   "id": "677bd624-aefe-4881-a746-4203bdfe302f",
   "metadata": {},
   "source": [
    "### Extract full list of pdf maps"
   ]
  },
  {
   "cell_type": "code",
   "execution_count": 172,
   "id": "60298323-978d-4796-a5ef-fe1f5ffa7b00",
   "metadata": {},
   "outputs": [],
   "source": [
    "import pandas as pd\n",
    "import numpy as np\n",
    "\n",
    "import io\n",
    "import requests\n",
    "from PyPDF2 import PdfReader"
   ]
  },
  {
   "cell_type": "code",
   "execution_count": 137,
   "id": "fd9e8f07-d4a3-4ec4-87d8-9563ca4ab130",
   "metadata": {},
   "outputs": [],
   "source": [
    "ca = pd.read_csv(\"data/California.csv\", header=None)\n",
    "fl = pd.read_csv(\"data/Florida.csv\", header=None)\n",
    "mi = pd.read_csv(\"data/Michigan.csv\", header=None)\n",
    "tx = pd.read_csv(\"data/Texas.csv\", header=None)\n",
    "ny = pd.read_csv(\"data/New York.csv\", header=None)\n",
    "all_subset = pd.concat([ca, fl, mi, tx, ny])[14]"
   ]
  },
  {
   "cell_type": "markdown",
   "id": "4332199b-c481-47db-b1c1-828aaed7af2a",
   "metadata": {},
   "source": [
    "### Extract coordinates from topographical maps"
   ]
  },
  {
   "cell_type": "code",
   "execution_count": 155,
   "id": "9339537b-8001-4431-b89f-4f279d811293",
   "metadata": {},
   "outputs": [],
   "source": [
    "from pdfminer.high_level import extract_text\n",
    "import geocoder\n",
    "import re"
   ]
  },
  {
   "cell_type": "code",
   "execution_count": 156,
   "id": "c0de7c14-2821-4db3-8f25-5d0bb7d445bc",
   "metadata": {},
   "outputs": [],
   "source": [
    "abbr = [\"AL\",\"AK\",\"AZ\",\"AR\",\"CA\",\"CO\",\"CT\",\"DE\",\"FL\",\"GA\",\"HI\",\"ID\",\"IL\",\"IN\",\"IA\",\"KS\",\"KY\",\"LA\",\"ME\",\"MD\",\"MA\",\"MI\",\"MN\",\"MS\",\"MO\",\"MT\",\"NE\",\"NV\",\"NH\",\"NJ\",\"NM\",\"NY\",\"NC\",\"ND\",\"OH\",\"OK\",\"OR\",\"PA\",\"RI\",\"SC\",\"SD\",\"TN\",\"TX\",\"UT\",\"VT\",\"VA\",\"WA\",\"WV\",\"WI\",\"WY\"]\n",
    "states = {\"AL\":\"Alabama\",\"AK\":\"Alaska\",\"AZ\":\"Arizona\",\"AR\":\"Arkansas\",\"CA\":\"California\",\"CO\":\"Colorado\",\"CT\":\"Connecticut\",\"DE\":\"Delaware\",\"FL\":\"Florida\",\"GA\":\"Georgia\",\"HI\":\"Hawaii\",\"ID\":\"Idaho\",\"IL\":\"Illinois\",\"IN\":\"Indiana\",\"IA\":\"Iowa\",\"KS\":\"Kansas\",\"KY\":\"Kentucky\",\"LA\":\"Louisiana\",\"ME\":\"Maine\",\"MD\":\"Maryland\",\"MA\":\"Massachusetts\",\"MI\":\"Michigan\",\"MN\":\"Minnesota\",\"MS\":\"Mississippi\",\"MO\":\"Missouri\",\"MT\":\"Montana\",\"NE\":\"Nebraska\",\"NV\":\"Nevada\",\"NH\":\"New Hampshire\",\"NJ\":\"New Jersey\",\"NM\":\"New Mexico\",\"NY\":\"New York\",\"NC\":\"North Carolina\",\"ND\":\"North Dakota\",\"OH\":\"Ohio\",\"OK\":\"Oklahoma\",\"OR\":\"Oregon\",\"PA\":\"Pennsylvania\",\"RI\":\"Rhode Island\",\"SC\":\"South Carolina\",\"SD\":\"South Dakota\",\"TN\":\"Tennessee\",\"TX\":\"Texas\",\"UT\":\"Utah\",\"VT\":\"Vermont\",\"VA\":\"Virginia\",\"WA\":\"Washington\",\"WV\":\"West Virginia\",\"WI\":\"Wisconsin\",\"WY\":\"Wyoming\"}"
   ]
  },
  {
   "cell_type": "code",
   "execution_count": 291,
   "id": "b5f63d5b-c360-43fc-855b-088051b22647",
   "metadata": {},
   "outputs": [],
   "source": [
    "def extract_coor(url):\n",
    "    \n",
    "    # Cite open-source pdfminer.six\n",
    "    response = requests.get(url)\n",
    "    pdf= BytesIO(response.content)\n",
    "    text = extract_text(pdf)\n",
    "    \n",
    "    # Parse out the four coordinate bounds\n",
    "    matches = re.findall(\"(-?\\d+\\.\\d*?°)\", text) \n",
    "    matches = pd.unique(np.array(matches))\n",
    "    pair1 = [matches[0], matches[2]]\n",
    "    pair2 = [matches[1], matches[3]]\n",
    "    pair1_min = min(pair1)\n",
    "    pair1_max = max(pair1)\n",
    "    pair2_min = min(pair2)\n",
    "    pair2_max = max(pair2)\n",
    "\n",
    "    # Parse out state map is in for coordinate-validation\n",
    "    found = \"\"\n",
    "    for ele in abbr:\n",
    "        if re.search(f\",\\s+{ele}\\s\", text) != None:\n",
    "            found = ele\n",
    "        else:\n",
    "            continue\n",
    "    state = states[found] \n",
    "\n",
    "    # Figure out which are the latitudes and which are the longitudes using state\n",
    "    test1 = geocoder.google(f\"{pair1_min}, {pair2_min}\", reverse = True)\n",
    "    test2 = geocoder.google(f\"{pair1_max}, {pair2_max}\", reverse = True)\n",
    "    if state == test1 and state == test2:\n",
    "        latmin, latmax, longmin, longmax = pair1_min, pair1_max, pair2_min, pair2_max\n",
    "    else:\n",
    "        latmin, latmax, longmin, longmax = pair2_min, pair2_max, pair1_min, pair1_max\n",
    "\n",
    "    return float(latmin[0:-1]), float(longmin[0:-1]), float(latmax[0:-1]), float(longmax[0:-1])"
   ]
  },
  {
   "cell_type": "markdown",
   "id": "9583c78f-cdfa-4b41-9cce-855c97a647e2",
   "metadata": {},
   "source": [
    "### Extract ground-truth roads from OSM"
   ]
  },
  {
   "cell_type": "code",
   "execution_count": 221,
   "id": "dff86e93-5041-462e-b604-27ce4715bee3",
   "metadata": {},
   "outputs": [],
   "source": [
    "import overpass\n",
    "import folium"
   ]
  },
  {
   "cell_type": "code",
   "execution_count": 285,
   "id": "7b94ff2e-2dfe-4478-b1f0-ec3450b12b9d",
   "metadata": {},
   "outputs": [],
   "source": [
    "def get_roads(coords):\n",
    "    bbox = (\",\".join(map(str, coords)))\n",
    "    api = overpass.API()\n",
    "    query = \"\"\"way[\"highway\"]({bbox})\"\"\".format(bbox=bbox)\n",
    "    result = api.get(query)\n",
    "    return results"
   ]
  },
  {
   "cell_type": "code",
   "execution_count": 280,
   "id": "b1e9a263-356c-4941-9f0c-435c4b3799e2",
   "metadata": {},
   "outputs": [],
   "source": [
    "def make_map(coords):\n",
    "    m = folium.Map(location = coords)"
   ]
  },
  {
   "cell_type": "code",
   "execution_count": null,
   "id": "babd81fa-df4c-47a7-9435-82e8df67b465",
   "metadata": {},
   "outputs": [],
   "source": [
    "def plot_roads(feature):\n",
    "\n",
    "    # Get coordinates of the road\n",
    "    id = feature[\"id\"]\n",
    "    query = \"\"\"way({id}); out ids geom;\"\"\".format(id=id)\n",
    "    for node in query[\"features\"]:\n",
    "        coords = node[\"geometry\"][\"coordinates\"]\n",
    "        \n",
    "    way_type = feature[\"properties\"].get(\"highway\", \"\")  \n",
    "    color = \"grey\"  \n",
    "    weight = 1\n",
    "    if way_type == \"motorway\":\n",
    "        color = \"red\" \n",
    "        weight = 3\n",
    "    elif way_type == \"trunk\":\n",
    "        color = \"orange\"\n",
    "        weight = 2\n",
    "    elif way_type == \"primary\":\n",
    "        color = \"gold\"\n",
    "        weight = 2\n",
    "    elif way_type == \"secondary\":\n",
    "        color = \"yellow\"      \n",
    "        weight = 2\n",
    "    elif way_type == \"tertiary\":\n",
    "        weight = 2\n",
    "        \n",
    "    folium.PolyLine(coords, color=color, weight=weight).add_to(m)"
   ]
  },
  {
   "cell_type": "markdown",
   "id": "d69ca81e-27da-4f90-bf65-9f78c8e3f8ce",
   "metadata": {},
   "source": [
    "# Testing (comment out)"
   ]
  },
  {
   "cell_type": "code",
   "execution_count": 292,
   "id": "103c992d-97a3-4228-bf1c-338127a32ca2",
   "metadata": {},
   "outputs": [
    {
     "name": "stderr",
     "output_type": "stream",
     "text": [
      "Status code Unknown from https://maps.googleapis.com/maps/api/geocode/json: ERROR - HTTPSConnectionPool(host='maps.googleapis.com', port=443): Max retries exceeded with url: /maps/api/geocode/json?address=-122.7500%C2%B0%2C+39.6250%C2%B0&bounds=&components=&region=&language= (Caused by NameResolutionError(\"<urllib3.connection.HTTPSConnection object at 0x000001BED9669390>: Failed to resolve 'maps.googleapis.com' ([Errno 11001] getaddrinfo failed)\"))\n",
      "Status code Unknown from https://maps.googleapis.com/maps/api/geocode/json: ERROR - HTTPSConnectionPool(host='maps.googleapis.com', port=443): Max retries exceeded with url: /maps/api/geocode/json?address=-122.8750%C2%B0%2C+39.7500%C2%B0&bounds=&components=&region=&language= (Caused by NameResolutionError(\"<urllib3.connection.HTTPSConnection object at 0x000001BED96C6F90>: Failed to resolve 'maps.googleapis.com' ([Errno 11001] getaddrinfo failed)\"))\n"
     ]
    }
   ],
   "source": [
    "url = all_subset.iloc[0]\n",
    "coords = extract_coor(url)"
   ]
  },
  {
   "cell_type": "code",
   "execution_count": 286,
   "id": "0565db05-d91b-4c84-9713-9724ee26d888",
   "metadata": {},
   "outputs": [
    {
     "ename": "OverpassSyntaxError",
     "evalue": "[out:json];way[\"highway\"](39.6250°,-122.7500°,39.7500°,-122.8750°);out body;",
     "output_type": "error",
     "traceback": [
      "\u001b[1;31m---------------------------------------------------------------------------\u001b[0m",
      "\u001b[1;31mOverpassSyntaxError\u001b[0m                       Traceback (most recent call last)",
      "Cell \u001b[1;32mIn[286], line 1\u001b[0m\n\u001b[1;32m----> 1\u001b[0m results \u001b[38;5;241m=\u001b[39m get_roads(coords)\n",
      "Cell \u001b[1;32mIn[285], line 5\u001b[0m, in \u001b[0;36mget_roads\u001b[1;34m(coords)\u001b[0m\n\u001b[0;32m      3\u001b[0m api \u001b[38;5;241m=\u001b[39m overpass\u001b[38;5;241m.\u001b[39mAPI()\n\u001b[0;32m      4\u001b[0m query \u001b[38;5;241m=\u001b[39m \u001b[38;5;124m\"\"\"\u001b[39m\u001b[38;5;124mway[\u001b[39m\u001b[38;5;124m\"\u001b[39m\u001b[38;5;124mhighway\u001b[39m\u001b[38;5;124m\"\u001b[39m\u001b[38;5;124m](\u001b[39m\u001b[38;5;132;01m{bbox}\u001b[39;00m\u001b[38;5;124m)\u001b[39m\u001b[38;5;124m\"\"\"\u001b[39m\u001b[38;5;241m.\u001b[39mformat(bbox\u001b[38;5;241m=\u001b[39mbbox)\n\u001b[1;32m----> 5\u001b[0m result \u001b[38;5;241m=\u001b[39m api\u001b[38;5;241m.\u001b[39mget(query)\n\u001b[0;32m      6\u001b[0m \u001b[38;5;28;01mreturn\u001b[39;00m results\n",
      "File \u001b[1;32m~\\AppData\\Local\\anaconda3\\Lib\\site-packages\\overpass\\api.py:97\u001b[0m, in \u001b[0;36mAPI.get\u001b[1;34m(self, query, responseformat, verbosity, build)\u001b[0m\n\u001b[0;32m     94\u001b[0m     logging\u001b[38;5;241m.\u001b[39mgetLogger()\u001b[38;5;241m.\u001b[39minfo(query)\n\u001b[0;32m     96\u001b[0m \u001b[38;5;66;03m# Get the response from Overpass\u001b[39;00m\n\u001b[1;32m---> 97\u001b[0m r \u001b[38;5;241m=\u001b[39m \u001b[38;5;28mself\u001b[39m\u001b[38;5;241m.\u001b[39m_get_from_overpass(full_query)\n\u001b[0;32m     98\u001b[0m content_type \u001b[38;5;241m=\u001b[39m r\u001b[38;5;241m.\u001b[39mheaders\u001b[38;5;241m.\u001b[39mget(\u001b[38;5;124m\"\u001b[39m\u001b[38;5;124mcontent-type\u001b[39m\u001b[38;5;124m\"\u001b[39m)\n\u001b[0;32m    100\u001b[0m \u001b[38;5;28;01mif\u001b[39;00m \u001b[38;5;28mself\u001b[39m\u001b[38;5;241m.\u001b[39mdebug:\n",
      "File \u001b[1;32m~\\AppData\\Local\\anaconda3\\Lib\\site-packages\\overpass\\api.py:177\u001b[0m, in \u001b[0;36mAPI._get_from_overpass\u001b[1;34m(self, query)\u001b[0m\n\u001b[0;32m    175\u001b[0m \u001b[38;5;28;01mif\u001b[39;00m \u001b[38;5;28mself\u001b[39m\u001b[38;5;241m.\u001b[39m_status \u001b[38;5;241m!=\u001b[39m \u001b[38;5;241m200\u001b[39m:\n\u001b[0;32m    176\u001b[0m     \u001b[38;5;28;01mif\u001b[39;00m \u001b[38;5;28mself\u001b[39m\u001b[38;5;241m.\u001b[39m_status \u001b[38;5;241m==\u001b[39m \u001b[38;5;241m400\u001b[39m:\n\u001b[1;32m--> 177\u001b[0m         \u001b[38;5;28;01mraise\u001b[39;00m OverpassSyntaxError(query)\n\u001b[0;32m    178\u001b[0m     \u001b[38;5;28;01melif\u001b[39;00m \u001b[38;5;28mself\u001b[39m\u001b[38;5;241m.\u001b[39m_status \u001b[38;5;241m==\u001b[39m \u001b[38;5;241m429\u001b[39m:\n\u001b[0;32m    179\u001b[0m         \u001b[38;5;28;01mraise\u001b[39;00m MultipleRequestsError()\n",
      "\u001b[1;31mOverpassSyntaxError\u001b[0m: [out:json];way[\"highway\"](39.6250°,-122.7500°,39.7500°,-122.8750°);out body;"
     ]
    }
   ],
   "source": [
    "results = get_roads(coords)"
   ]
  }
 ],
 "metadata": {
  "kernelspec": {
   "display_name": "Python 3 (ipykernel)",
   "language": "python",
   "name": "python3"
  },
  "language_info": {
   "codemirror_mode": {
    "name": "ipython",
    "version": 3
   },
   "file_extension": ".py",
   "mimetype": "text/x-python",
   "name": "python",
   "nbconvert_exporter": "python",
   "pygments_lexer": "ipython3",
   "version": "3.11.7"
  }
 },
 "nbformat": 4,
 "nbformat_minor": 5
}
