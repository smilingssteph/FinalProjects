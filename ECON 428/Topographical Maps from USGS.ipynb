{
 "cells": [
  {
   "cell_type": "markdown",
   "id": "677bd624-aefe-4881-a746-4203bdfe302f",
   "metadata": {},
   "source": [
    "### Extract full list of pdf maps"
   ]
  },
  {
   "cell_type": "code",
   "execution_count": 1,
   "id": "60298323-978d-4796-a5ef-fe1f5ffa7b00",
   "metadata": {},
   "outputs": [],
   "source": [
    "import pandas as pd\n",
    "import numpy as np\n",
    "import matplotlib.pyplot as plt\n",
    "\n",
    "import io\n",
    "import requests\n",
    "from PyPDF2 import PdfReader\n",
    "\n",
    "import random"
   ]
  },
  {
   "cell_type": "code",
   "execution_count": 2,
   "id": "fd9e8f07-d4a3-4ec4-87d8-9563ca4ab130",
   "metadata": {},
   "outputs": [],
   "source": [
    "tx = pd.read_csv(\"data/Texas.csv\", header=None)\n",
    "tx_pdf = tx[14]\n",
    "tx_img = tx[16]"
   ]
  },
  {
   "cell_type": "markdown",
   "id": "4332199b-c481-47db-b1c1-828aaed7af2a",
   "metadata": {},
   "source": [
    "### Extract coordinates from topographical maps"
   ]
  },
  {
   "cell_type": "code",
   "execution_count": 3,
   "id": "9339537b-8001-4431-b89f-4f279d811293",
   "metadata": {},
   "outputs": [],
   "source": [
    "from pdfminer.high_level import extract_text\n",
    "import geocoder\n",
    "import re"
   ]
  },
  {
   "cell_type": "code",
   "execution_count": 4,
   "id": "c0de7c14-2821-4db3-8f25-5d0bb7d445bc",
   "metadata": {},
   "outputs": [],
   "source": [
    "abbr = [\"AL\",\"AK\",\"AZ\",\"AR\",\"CA\",\"CO\",\"CT\",\"DE\",\"FL\",\"GA\",\"HI\",\"ID\",\"IL\",\"IN\",\"IA\",\"KS\",\"KY\",\"LA\",\"ME\",\"MD\",\"MA\",\"MI\",\"MN\",\"MS\",\"MO\",\"MT\",\"NE\",\"NV\",\"NH\",\"NJ\",\"NM\",\"NY\",\"NC\",\"ND\",\"OH\",\"OK\",\"OR\",\"PA\",\"RI\",\"SC\",\"SD\",\"TN\",\"TX\",\"UT\",\"VT\",\"VA\",\"WA\",\"WV\",\"WI\",\"WY\"]\n",
    "states = {\"AL\":\"Alabama\",\"AK\":\"Alaska\",\"AZ\":\"Arizona\",\"AR\":\"Arkansas\",\"CA\":\"California\",\"CO\":\"Colorado\",\"CT\":\"Connecticut\",\"DE\":\"Delaware\",\"FL\":\"Florida\",\"GA\":\"Georgia\",\"HI\":\"Hawaii\",\"ID\":\"Idaho\",\"IL\":\"Illinois\",\"IN\":\"Indiana\",\"IA\":\"Iowa\",\"KS\":\"Kansas\",\"KY\":\"Kentucky\",\"LA\":\"Louisiana\",\"ME\":\"Maine\",\"MD\":\"Maryland\",\"MA\":\"Massachusetts\",\"MI\":\"Michigan\",\"MN\":\"Minnesota\",\"MS\":\"Mississippi\",\"MO\":\"Missouri\",\"MT\":\"Montana\",\"NE\":\"Nebraska\",\"NV\":\"Nevada\",\"NH\":\"New Hampshire\",\"NJ\":\"New Jersey\",\"NM\":\"New Mexico\",\"NY\":\"New York\",\"NC\":\"North Carolina\",\"ND\":\"North Dakota\",\"OH\":\"Ohio\",\"OK\":\"Oklahoma\",\"OR\":\"Oregon\",\"PA\":\"Pennsylvania\",\"RI\":\"Rhode Island\",\"SC\":\"South Carolina\",\"SD\":\"South Dakota\",\"TN\":\"Tennessee\",\"TX\":\"Texas\",\"UT\":\"Utah\",\"VT\":\"Vermont\",\"VA\":\"Virginia\",\"WA\":\"Washington\",\"WV\":\"West Virginia\",\"WI\":\"Wisconsin\",\"WY\":\"Wyoming\"}"
   ]
  },
  {
   "cell_type": "code",
   "execution_count": 6,
   "id": "b5f63d5b-c360-43fc-855b-088051b22647",
   "metadata": {},
   "outputs": [
    {
     "name": "stderr",
     "output_type": "stream",
     "text": [
      "<>:9: SyntaxWarning: invalid escape sequence '\\d'\n",
      "<>:21: SyntaxWarning: invalid escape sequence '\\s'\n",
      "<>:21: SyntaxWarning: invalid escape sequence '\\s'\n",
      "<>:9: SyntaxWarning: invalid escape sequence '\\d'\n",
      "<>:21: SyntaxWarning: invalid escape sequence '\\s'\n",
      "<>:21: SyntaxWarning: invalid escape sequence '\\s'\n",
      "/tmp/ipykernel_1059361/2001431683.py:9: SyntaxWarning: invalid escape sequence '\\d'\n",
      "  matches = re.findall(\"(-?\\d+\\.\\d*?°)\", text)\n",
      "/tmp/ipykernel_1059361/2001431683.py:21: SyntaxWarning: invalid escape sequence '\\s'\n",
      "  if re.search(f\",\\s+{ele}\\s\", text) != None:\n",
      "/tmp/ipykernel_1059361/2001431683.py:21: SyntaxWarning: invalid escape sequence '\\s'\n",
      "  if re.search(f\",\\s+{ele}\\s\", text) != None:\n"
     ]
    }
   ],
   "source": [
    "def extract_coor(url):\n",
    "    \n",
    "    # Cite open-source pdfminer.six\n",
    "    response = requests.get(url)\n",
    "    pdf = io.BytesIO(response.content)\n",
    "    text = extract_text(pdf)\n",
    "    \n",
    "    # Parse out the four coordinate bounds\n",
    "    matches = re.findall(\"(-?\\d+\\.\\d*?°)\", text) \n",
    "    matches = pd.unique(np.array(matches))\n",
    "    pair1 = [matches[0], matches[2]]\n",
    "    pair2 = [matches[1], matches[3]]\n",
    "    pair1_min = min(pair1)\n",
    "    pair1_max = max(pair1)\n",
    "    pair2_min = min(pair2)\n",
    "    pair2_max = max(pair2)\n",
    "\n",
    "    # Parse out state map is in for coordinate-validation\n",
    "    found = \"\"\n",
    "    for ele in abbr:\n",
    "        if re.search(f\",\\s+{ele}\\s\", text) != None:\n",
    "            found = ele\n",
    "        else:\n",
    "            continue\n",
    "    state = states[found] \n",
    "\n",
    "    # Figure out which are the latitudes and which are the longitudes using state\n",
    "    test1 = geocoder.google(f\"{pair1_min}, {pair2_min}\", reverse = True)\n",
    "    test2 = geocoder.google(f\"{pair1_max}, {pair2_max}\", reverse = True)\n",
    "    if state == test1 and state == test2:\n",
    "        latmin, latmax, longmin, longmax = pair1_min, pair1_max, pair2_min, pair2_max\n",
    "    else:\n",
    "        latmin, latmax, longmin, longmax = pair2_min, pair2_max, pair1_min, pair1_max\n",
    "\n",
    "    return float(latmin[0:-1]), float(latmax[0:-1]), float(longmin[0:-1]), float(longmax[0:-1])"
   ]
  },
  {
   "cell_type": "markdown",
   "id": "9583c78f-cdfa-4b41-9cce-855c97a647e2",
   "metadata": {},
   "source": [
    "### Extract ground-truth roads from OSM"
   ]
  },
  {
   "cell_type": "code",
   "execution_count": 10,
   "id": "7e7394b6-1798-43c5-a548-4c097becb703",
   "metadata": {},
   "outputs": [],
   "source": [
    "def get_ground_truth(coords, index):\n",
    "    G = ox.graph_from_bbox(bbox=coords, simplify = True, network_type=\"all\")\n",
    "    ox.io.save_graphml(G, f\"data/training/tx_train_{index}.gml\")"
   ]
  },
  {
   "cell_type": "markdown",
   "id": "d69ca81e-27da-4f90-bf65-9f78c8e3f8ce",
   "metadata": {},
   "source": [
    "# Data Pipeline"
   ]
  },
  {
   "cell_type": "code",
   "execution_count": 14,
   "id": "01c4472e-e999-4b3b-9f1c-e406255054a1",
   "metadata": {},
   "outputs": [],
   "source": [
    "random.seed(428)\n",
    "train_index = random.sample(range(len(tx)), 250)\n",
    "train_pdf = tx_pdf.iloc[train_index].reset_index()\n",
    "train_pdf = train_pdf.rename(columns={14:\"url\"})\n",
    "train_img = tx_img.iloc[train_index].reset_index()\n",
    "train_img = train_img.rename(columns={14:\"url\"})"
   ]
  },
  {
   "cell_type": "code",
   "execution_count": null,
   "id": "f602537a-65fd-4c8d-a586-2a48a0d3535a",
   "metadata": {},
   "outputs": [],
   "source": [
    "coord_list = [extract_coor(url) for url in train_pdf[\"url\"]]\n",
    "\n",
    "i = 0\n",
    "for coord in coord_list:\n",
    "    get_ground_truth(coord, i)\n",
    "    i += 1"
   ]
  },
  {
   "cell_type": "code",
   "execution_count": null,
   "id": "b88cd8a3-8587-47d1-ac5b-2a19751b3be8",
   "metadata": {},
   "outputs": [],
   "source": [
    "coord_list"
   ]
  }
 ],
 "metadata": {
  "kernelspec": {
   "display_name": "Python 3 (ipykernel)",
   "language": "python",
   "name": "python3"
  },
  "language_info": {
   "codemirror_mode": {
    "name": "ipython",
    "version": 3
   },
   "file_extension": ".py",
   "mimetype": "text/x-python",
   "name": "python",
   "nbconvert_exporter": "python",
   "pygments_lexer": "ipython3",
   "version": "3.12.3"
  }
 },
 "nbformat": 4,
 "nbformat_minor": 5
}
