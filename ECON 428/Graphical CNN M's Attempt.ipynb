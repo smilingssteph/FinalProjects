{
 "cells": [
  {
   "cell_type": "code",
   "execution_count": 6,
   "id": "8f3439e7-a5f4-4c0c-b2f9-d6aa457ae2ac",
   "metadata": {
    "tags": []
   },
   "outputs": [],
   "source": [
    "import osmnx as ox\n",
    "import networkx as nx\n",
    "from scipy.sparse import csr_matrix\n",
    "import scipy.sparse as sp\n",
    "import pandas as pd\n",
    "import pickle\n",
    "\n",
    "from collections import namedtuple\n",
    "\n",
    "import dgl\n",
    "from dgl.nn import GraphConv\n",
    "import torch\n",
    "from torch import nn\n",
    "import torch.nn.functional as F"
   ]
  },
  {
   "cell_type": "markdown",
   "id": "41ed0117-a4dc-46d3-b64a-e8acb8b53da3",
   "metadata": {},
   "source": [
    "### Data Extraction"
   ]
  },
  {
   "cell_type": "code",
   "execution_count": 8,
   "id": "cdf84236-fe7e-45ff-b580-2922e540861c",
   "metadata": {
    "tags": []
   },
   "outputs": [],
   "source": [
    "data = pd.read_pickle(\"/Users/mario/Downloads/Texas.pkl\")"
   ]
  },
  {
   "cell_type": "code",
   "execution_count": 58,
   "id": "444665b5-ecb6-4df7-8394-892ec1db96ed",
   "metadata": {
    "tags": []
   },
   "outputs": [
    {
     "data": {
      "text/html": [
       "<div>\n",
       "<style scoped>\n",
       "    .dataframe tbody tr th:only-of-type {\n",
       "        vertical-align: middle;\n",
       "    }\n",
       "\n",
       "    .dataframe tbody tr th {\n",
       "        vertical-align: top;\n",
       "    }\n",
       "\n",
       "    .dataframe thead th {\n",
       "        text-align: right;\n",
       "    }\n",
       "</style>\n",
       "<table border=\"1\" class=\"dataframe\">\n",
       "  <thead>\n",
       "    <tr style=\"text-align: right;\">\n",
       "      <th></th>\n",
       "      <th>Experiment</th>\n",
       "      <th>Town</th>\n",
       "      <th>County</th>\n",
       "      <th>State</th>\n",
       "      <th>Treatment</th>\n",
       "      <th>Search_Place</th>\n",
       "      <th>Graph</th>\n",
       "    </tr>\n",
       "  </thead>\n",
       "  <tbody>\n",
       "    <tr>\n",
       "      <th>832</th>\n",
       "      <td>(BaylU, 1845)</td>\n",
       "      <td>Waco</td>\n",
       "      <td>McLennan</td>\n",
       "      <td>Texas</td>\n",
       "      <td>1</td>\n",
       "      <td>Waco, Texas</td>\n",
       "      <td>(236070980, 236070991, 236070999, 236071000, 2...</td>\n",
       "    </tr>\n",
       "    <tr>\n",
       "      <th>833</th>\n",
       "      <td>(BaylU, 1861)</td>\n",
       "      <td>Independence</td>\n",
       "      <td>Washington</td>\n",
       "      <td>Texas</td>\n",
       "      <td>0</td>\n",
       "      <td>Independence, Texas</td>\n",
       "      <td>(4200548405, 4200548406, 4200548407, 420054840...</td>\n",
       "    </tr>\n",
       "    <tr>\n",
       "      <th>834</th>\n",
       "      <td>(DaBapU, 1898)</td>\n",
       "      <td>Dallas</td>\n",
       "      <td>Dallas</td>\n",
       "      <td>Texas</td>\n",
       "      <td>1</td>\n",
       "      <td>Dallas, Texas</td>\n",
       "      <td>(29604777, 30759132, 81538002, 81538022, 81538...</td>\n",
       "    </tr>\n",
       "    <tr>\n",
       "      <th>835</th>\n",
       "      <td>(DaBapU, 1898)</td>\n",
       "      <td>San Antonio</td>\n",
       "      <td>Bexar</td>\n",
       "      <td>Texas</td>\n",
       "      <td>0</td>\n",
       "      <td>San Antonio, Texas</td>\n",
       "      <td>(149452547, 149452554, 149452556, 149452652, 1...</td>\n",
       "    </tr>\n",
       "    <tr>\n",
       "      <th>836</th>\n",
       "      <td>(DaBapU, 1898)</td>\n",
       "      <td>Houston</td>\n",
       "      <td>Harris</td>\n",
       "      <td>Texas</td>\n",
       "      <td>0</td>\n",
       "      <td>Houston, Texas</td>\n",
       "      <td>(151365298, 151365299, 151365329, 151365331, 1...</td>\n",
       "    </tr>\n",
       "  </tbody>\n",
       "</table>\n",
       "</div>"
      ],
      "text/plain": [
       "         Experiment          Town      County  State  Treatment  \\\n",
       "832   (BaylU, 1845)          Waco    McLennan  Texas          1   \n",
       "833   (BaylU, 1861)  Independence  Washington  Texas          0   \n",
       "834  (DaBapU, 1898)        Dallas      Dallas  Texas          1   \n",
       "835  (DaBapU, 1898)   San Antonio       Bexar  Texas          0   \n",
       "836  (DaBapU, 1898)       Houston      Harris  Texas          0   \n",
       "\n",
       "            Search_Place                                              Graph  \n",
       "832          Waco, Texas  (236070980, 236070991, 236070999, 236071000, 2...  \n",
       "833  Independence, Texas  (4200548405, 4200548406, 4200548407, 420054840...  \n",
       "834        Dallas, Texas  (29604777, 30759132, 81538002, 81538022, 81538...  \n",
       "835   San Antonio, Texas  (149452547, 149452554, 149452556, 149452652, 1...  \n",
       "836       Houston, Texas  (151365298, 151365299, 151365329, 151365331, 1...  "
      ]
     },
     "execution_count": 58,
     "metadata": {},
     "output_type": "execute_result"
    }
   ],
   "source": [
    "data = data.dropna()\n",
    "data.head()"
   ]
  },
  {
   "cell_type": "code",
   "execution_count": 60,
   "id": "986bf934-cc7b-421e-a304-3b2bc42b44af",
   "metadata": {
    "tags": []
   },
   "outputs": [],
   "source": [
    "def get_nodes(graphs):\n",
    "    \n",
    "    all_features_list = []\n",
    "    \n",
    "    for G in graphs:\n",
    "        nodes = list(G.nodes)\n",
    "        degree_tensor = torch.tensor(list(G.degree()))\n",
    "        in_degree_tensor = torch.tensor(list(G.in_degree()))\n",
    "        all_features_tensor = torch.cat([degree_tensor.unsqueeze(1), in_degree_tensor.unsqueeze(1)], dim=1)\n",
    "        all_features_list.append(all_features_tensor)\n",
    "\n",
    "    combined_feature_tensor = torch.cat(all_features_list, dim=0)\n",
    "    return combined_feature_tensor"
   ]
  },
  {
   "cell_type": "code",
   "execution_count": 61,
   "id": "17c7d444-c658-4852-95c3-d89bf2ee72fb",
   "metadata": {
    "tags": []
   },
   "outputs": [],
   "source": [
    "def get_edges(graphs):\n",
    "    \n",
    "    all_sparse_tensors = []\n",
    "    \n",
    "    for G in graphs:\n",
    "        adj_coo = nx.to_scipy_sparse_array(G, dtype=float, format='coo')\n",
    "        \n",
    "        # Extract the row indices, column indices, and data\n",
    "        row, col = adj_coo.row, adj_coo.col\n",
    "        data = adj_coo.data\n",
    "        \n",
    "        # Convert to a PyTorch sparse COO tensor\n",
    "        indices = torch.tensor([row, col], dtype=torch.int64)\n",
    "        values = torch.tensor(data, dtype=torch.float32)\n",
    "        sparse_tensor = torch.sparse_coo_tensor(indices, values, adj_coo.shape)\n",
    "        \n",
    "        all_sparse_tensors.append(sparse_tensor)\n",
    "        \n",
    "    return all_sparse_tensors"
   ]
  },
  {
   "cell_type": "code",
   "execution_count": 62,
   "id": "2953e0d8-34ad-4a24-9077-1f9243f63825",
   "metadata": {
    "tags": []
   },
   "outputs": [],
   "source": [
    "node_features = get_nodes(data[\"Graph\"])"
   ]
  },
  {
   "cell_type": "code",
   "execution_count": 63,
   "id": "e27ada0a-b37f-4b0b-a1a0-ef6eaabd145c",
   "metadata": {
    "tags": []
   },
   "outputs": [],
   "source": [
    "edge_features = get_edges(data[\"Graph\"])"
   ]
  },
  {
   "cell_type": "markdown",
   "id": "93c92c93-bf52-4ea0-ba48-9dbaf7fd1f94",
   "metadata": {},
   "source": [
    "### Data Preprocessing"
   ]
  },
  {
   "cell_type": "code",
   "execution_count": 88,
   "id": "f2f929bd-3903-4a4f-826d-e903e24c559d",
   "metadata": {
    "tags": []
   },
   "outputs": [],
   "source": [
    "class AttentionPool(nn.Module):\n",
    "      \"\"\" \n",
    "      \n",
    "      Attention-based pooling layer for graph classification.\n",
    "      Handles graphs of different sizes. \n",
    "      \n",
    "      \"\"\"\n",
    "\n",
    "      def __init__(self, units):\n",
    "        super(AttentionPool, self).__init__()\n",
    "        self.units = units\n",
    "        \n",
    "        self.attention_dense = nn.Linear(units, units)\n",
    "        \n",
    "        self.score_dense = nn.Linear(units, 1)\n",
    "\n",
    "      def forward(self, node_features, adj_matrix):\n",
    "        # Calculate attention scores\n",
    "        attention_inputs = self.attention_dense(node_features)\n",
    "        attention_logits = torch.matmul(attention_inputs, attention_inputs.t())\n",
    "        # Mask out self-attention\n",
    "        attention_logits -= torch.eye(attention_logits.size(0)) * 1e9\n",
    "        # Might change to softmax, to normalze weightos over the logits in the attention pool\n",
    "        #attention_weights = F.sigmoid(self.score_dense(attention_logits))\n",
    "        attention_weights = F.softmax(attention_logits, dim=-1)\n",
    "        \n",
    "        # Apply attention to node features\n",
    "        pooled_features = torch.matmul(attention_weights, node_features)\n",
    "\n",
    "        return pooled_features"
   ]
  },
  {
   "cell_type": "code",
   "execution_count": 89,
   "id": "02641356-029d-4d22-b896-1b8e754ee49b",
   "metadata": {
    "tags": []
   },
   "outputs": [],
   "source": [
    "def pool_features(node_features, edge_matrices):\n",
    "    pooled_features_list = []\n",
    "    for node_features_batch, adj_matrix_batch in zip(node_features, edge_matrices):\n",
    "        # \n",
    "        units = node_features_batch.shape[1] # Adjust units based on the input feature size\n",
    "        attention_pool = AttentionPool(units=units)\n",
    "        pooled_features = attention_pool(node_features_batch, adj_matrix_batch)\n",
    "        pooled_features_list.append(pooled_features)\n",
    "    return pooled_features_list"
   ]
  },
  {
   "cell_type": "code",
   "execution_count": 70,
   "id": "32f9fdad-ab9d-4d03-a39d-6526df91e4d5",
   "metadata": {
    "tags": []
   },
   "outputs": [],
   "source": [
    "# ME CODE\n",
    "node_features = [n.float() for n in node_features]"
   ]
  },
  {
   "cell_type": "code",
   "execution_count": 90,
   "id": "1aa69fa9-343f-4f08-abb4-5707439a2bd3",
   "metadata": {
    "tags": []
   },
   "outputs": [],
   "source": [
    "test_node = node_features[0:5]\n",
    "test_edge = edge_features[0:5]\n",
    "test_pool = pool_features(test_node, test_edge)"
   ]
  },
  {
   "cell_type": "markdown",
   "id": "3b86b879-c9d6-4882-a423-5697d558a1c8",
   "metadata": {},
   "source": [
    "### Model"
   ]
  },
  {
   "cell_type": "code",
   "execution_count": null,
   "id": "fb09441e-a8a1-4250-acd3-839182418c42",
   "metadata": {},
   "outputs": [],
   "source": [
    "import torch\n",
    "import torch.nn as nn\n",
    "import torch.optim as optim\n",
    "from sklearn.metrics import accuracy_score"
   ]
  },
  {
   "cell_type": "code",
   "execution_count": 91,
   "id": "b696706f-15e5-4162-9489-b976586d8a58",
   "metadata": {},
   "outputs": [],
   "source": [
    "class GCNConv(nn.Module):\n",
    "    \"\"\"Graph Convolutional Layer\"\"\"\n",
    "\n",
    "    def __init__(self, in_features, out_features):\n",
    "        super(GCNConv, self).__init__()\n",
    "        self.linear = nn.Linear(in_features, out_features)\n",
    "\n",
    "    def forward(self, node_features, adj_matrix):\n",
    "        # Normalize adjacency matrix\n",
    "        adj_matrix = F.normalize(adj_matrix, dim=1, p=1, eps=1e-9)\n",
    "        # Transform features with the linear layer\n",
    "        node_features_transformed = self.linear(node_features)\n",
    "        # Perform graph convolution\n",
    "        x = torch.matmul(adj_matrix, node_features_transformed)\n",
    "        return x"
   ]
  },
  {
   "cell_type": "code",
   "execution_count": 92,
   "id": "fffa73a6-43ee-4d8c-a0e4-687ca4938f89",
   "metadata": {},
   "outputs": [],
   "source": [
    "class GraphCNN(nn.Module):\n",
    "      \"\"\"Graphical CNN model for network classification.\"\"\"\n",
    "    \n",
    "      def __init__(self, in_features, hidden_features):\n",
    "        super(GraphCNN, self).__init__()\n",
    "        self.gcn1 = GCNConv(in_features, hidden_features)\n",
    "        self.gcn2 = GCNConv(hidden_features, hidden_features)\n",
    "        self.attention_pool = AttentionPool(hidden_features)\n",
    "        self.fc1 = nn.Linear(hidden_features, 64)\n",
    "        self.fc2 = nn.Linear(64, 2)\n",
    "    \n",
    "      def forward(self, node_features, adj_matrix):\n",
    "        x = self.gcn1(node_features, adj_matrix)\n",
    "        x = F.relu(x)\n",
    "        x = self.gcn2(x, adj_matrix)\n",
    "        x = F.relu(x)\n",
    "        x = self.attention_pool(x, adj_matrix)\n",
    "        x = F.relu(self.fc1(x))\n",
    "        x = F.dropout(x, p=0.5)\n",
    "        output = F.sigmoid(self.fc2(x))\n",
    "        return output\n",
    "    "
   ]
  },
  {
   "cell_type": "code",
   "execution_count": 100,
   "id": "d24aecf4-881c-4c41-995e-968ac77c1c6f",
   "metadata": {},
   "outputs": [
    {
     "name": "stdout",
     "output_type": "stream",
     "text": [
      "Epoch [10/50], Loss: 0.6618\n",
      "Epoch [20/50], Loss: 0.6513\n",
      "Epoch [30/50], Loss: 0.6173\n",
      "Epoch [40/50], Loss: 0.5862\n",
      "Epoch [50/50], Loss: 0.5743\n",
      "Test Accuracy: 0.6000\n"
     ]
    }
   ],
   "source": [
    "# Hyperparameters\n",
    "learning_rate = 0.001\n",
    "num_epochs = 50\n",
    "hidden_features = 128\n",
    "\n",
    "# Initialize the model\n",
    "model = GraphCNN(in_features=5, hidden_features=hidden_features)  # Adjust in_features\n",
    "optimizer = optim.Adam(model.parameters(), lr=learning_rate)\n",
    "criterion = nn.CrossEntropyLoss()\n",
    "\n",
    "# Training loop\n",
    "model.train()\n",
    "for epoch in range(num_epochs):\n",
    "    optimizer.zero_grad()\n",
    "    output = model(node_features_train, adj_matrix_train)\n",
    "    loss = criterion(output, labels_train)\n",
    "    loss.backward()\n",
    "    optimizer.step()\n",
    "    \n",
    "    # Print loss periodically\n",
    "    if (epoch + 1) % 10 == 0:\n",
    "        print(f'Epoch [{epoch + 1}/{num_epochs}], Loss: {loss.item():.4f}')\n",
    "\n",
    "# Evaluation on test data\n",
    "model.eval()\n",
    "with torch.no_grad():\n",
    "    output = model(node_features_test, adj_matrix_test)\n",
    "    _, predicted = torch.max(output, 1)\n",
    "    accuracy = accuracy_score(labels_test, predicted)\n",
    "    print(f'Test Accuracy: {accuracy:.4f}')\n"
   ]
  }
 ],
 "metadata": {
  "kernelspec": {
   "display_name": "Python 3 (ipykernel)",
   "language": "python",
   "name": "python3"
  },
  "language_info": {
   "codemirror_mode": {
    "name": "ipython",
    "version": 3
   },
   "file_extension": ".py",
   "mimetype": "text/x-python",
   "name": "python",
   "nbconvert_exporter": "python",
   "pygments_lexer": "ipython3",
   "version": "3.8.17"
  }
 },
 "nbformat": 4,
 "nbformat_minor": 5
}
