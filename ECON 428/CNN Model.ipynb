{
 "cells": [
  {
   "cell_type": "code",
   "execution_count": 53,
   "id": "8f3439e7-a5f4-4c0c-b2f9-d6aa457ae2ac",
   "metadata": {},
   "outputs": [],
   "source": [
    "import osmnx as os"
   ]
  },
  {
   "cell_type": "code",
   "execution_count": 54,
   "id": "8720fc8d-cd6c-4b26-9d9d-25fa527c03e0",
   "metadata": {},
   "outputs": [
    {
     "data": {
      "text/plain": [
       "<networkx.classes.multidigraph.MultiDiGraph at 0x1d0469cd810>"
      ]
     },
     "execution_count": 54,
     "metadata": {},
     "output_type": "execute_result"
    }
   ],
   "source": [
    "os.io.load_graphml(\"data/training/tx_train_test.gml\")"
   ]
  }
 ],
 "metadata": {
  "kernelspec": {
   "display_name": "Python 3 (ipykernel)",
   "language": "python",
   "name": "python3"
  },
  "language_info": {
   "codemirror_mode": {
    "name": "ipython",
    "version": 3
   },
   "file_extension": ".py",
   "mimetype": "text/x-python",
   "name": "python",
   "nbconvert_exporter": "python",
   "pygments_lexer": "ipython3",
   "version": "3.11.7"
  }
 },
 "nbformat": 4,
 "nbformat_minor": 5
}
