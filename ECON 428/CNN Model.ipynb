{
 "cells": [
  {
   "cell_type": "code",
   "execution_count": 7,
   "id": "92774989-eaaf-4568-a4dd-3689d499557e",
   "metadata": {},
   "outputs": [],
   "source": [
    "from tensorflow.keras.preprocessing.image import load_img, img_to_array\n",
    "from tensorflow.keras.utils import to_categorical\n",
    "import networkx as nx\n",
    "\n",
    "from tensorflow.keras.models import Sequential\n",
    "from tensorflow.keras.layers import Conv2D, MaxPooling2D, Flatten, Dense"
   ]
  },
  {
   "cell_type": "code",
   "execution_count": 2,
   "id": "c790fe31-59e1-40ed-80cf-bb190be9b472",
   "metadata": {},
   "outputs": [],
   "source": [
    "def get_labels(g):\n",
    "    road_graph = nx.read_gml(g)"
   ]
  },
  {
   "cell_type": "code",
   "execution_count": 6,
   "id": "725bcaeb-0c46-4fbe-862e-029f655d3981",
   "metadata": {},
   "outputs": [],
   "source": [
    "def preprocess(image):\n",
    "    map_image = load_img(image)\n",
    "    map_array = img_to_array(map_image) / 255.0  # Normalize pixel values\n",
    "    grayscale_map = map_array.mean(axis=-1)[:, :, None]\n",
    "    \n",
    "    road_mask = grayscale_map > 0.5\n",
    "    road_segments = skimage.morphology.label(road_mask)\n",
    "    return grayscale_map, road_segments"
   ]
  },
  {
   "cell_type": "code",
   "execution_count": 5,
   "id": "41a2e7e3-773d-420a-bebc-b433aca1ebfc",
   "metadata": {},
   "outputs": [],
   "source": [
    "def cnn_model(map, road_graph):\n",
    "    model = Sequential([\n",
    "        Conv2D(32, (3, 3), activation=\"relu\", input_shape=(map.shape[0], map.shape[1], 1)),\n",
    "        MaxPooling2D((2, 2)),\n",
    "        Conv2D(64, (3, 3), activation=\"relu\"),\n",
    "        MaxPooling2D((2, 2)),\n",
    "        Flatten(),\n",
    "        Dense(128, activation=\"relu\"),\n",
    "        Dense(road_graph.number_of_nodes(), activation=\"softmax\")\n",
    "    ])\n",
    "    model.compile(loss=\"categorical_crossentropy\", optimizer=\"adam\", metrics=[\"accuracy\"])\n",
    "    return model"
   ]
  },
  {
   "cell_type": "code",
   "execution_count": 8,
   "id": "99ba67e1-373a-4a33-8ec9-1072835847ab",
   "metadata": {},
   "outputs": [],
   "source": [
    "def train_cnn(road_segment):\n",
    "    training_images = []\n",
    "    training_labels = []\n",
    "    for segment in road_segments.ravel():\n",
    "        if segment > 0:  # Consider only segments with potential road pixels\n",
    "            segment_mask = (road_segments == segment).astype(np.float32)\n",
    "            training_images.append(segment_mask)        \n",
    "            segment_label = to_categorical([list(road_graph.neighbors(n)) for n in road_graph.nodes() if road_graph.nodes[n][\"segment\"] == segment])[0]\n",
    "            training_labels.append(segment_label)\n",
    "    model.fit(np.array(training_images), np.array(training_labels), epochs=10)\n",
    "    return model"
   ]
  },
  {
   "cell_type": "code",
   "execution_count": null,
   "id": "98933346-d554-4f22-81fd-473ab4e608cc",
   "metadata": {},
   "outputs": [],
   "source": [
    "def predict(new_map, model):\n",
    "    new_map_image = load_img(new_map)\n",
    "    new_map_array = img_to_array(new_map_image) / 255.0\n",
    "    new_grayscale_map = new_map_array.mean(axis=-1)[:, :, None]\n",
    "    predicted_segments = model.predict(np.array([new_grayscale_map]))[0]\n",
    "    predicted_segment_labels = np.argmax(predicted_segments, axis=-1)"
   ]
  },
  {
   "cell_type": "code",
   "execution_count": null,
   "id": "9fd1f11b-0a98-496e-a42b-c6f11d4f2d77",
   "metadata": {},
   "outputs": [],
   "source": [
    "def make_network(predicted_segment_labels)\n",
    "    extracted_network = nx.Graph()\n",
    "    for i, segment_label in enumerate(predicted_segment_labels):\n",
    "        if segment_label > 0:  \n",
    "            extracted_network.add_node(i, segment=segment_label)"
   ]
  }
 ],
 "metadata": {
  "kernelspec": {
   "display_name": "Python 3 (ipykernel)",
   "language": "python",
   "name": "python3"
  },
  "language_info": {
   "codemirror_mode": {
    "name": "ipython",
    "version": 3
   },
   "file_extension": ".py",
   "mimetype": "text/x-python",
   "name": "python",
   "nbconvert_exporter": "python",
   "pygments_lexer": "ipython3",
   "version": "3.11.7"
  }
 },
 "nbformat": 4,
 "nbformat_minor": 5
}
