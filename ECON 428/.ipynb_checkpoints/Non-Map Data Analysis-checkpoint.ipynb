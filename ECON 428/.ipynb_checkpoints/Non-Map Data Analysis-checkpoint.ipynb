{
 "cells": [
  {
   "cell_type": "code",
   "execution_count": 97,
   "id": "972eadee-f616-4e3a-a047-a6e284512579",
   "metadata": {},
   "outputs": [],
   "source": [
    "import pandas as pd\n",
    "import matplotlib.pyplot as plt\n",
    "from census import Census"
   ]
  },
  {
   "cell_type": "code",
   "execution_count": 76,
   "id": "020b52c7-a5e1-4118-947c-4dcb46c98812",
   "metadata": {},
   "outputs": [],
   "source": [
    "df = pd.read_csv(\"data/College_Control_Towns.csv\")\n",
    "\n",
    "# Filter by states with more than 20 college founding experiments\n",
    "counts = df[\"State\"].value_counts()\n",
    "states_include = counts[counts > 20].index\n",
    "df = df[df[\"State\"].isin(states_include)]"
   ]
  },
  {
   "cell_type": "code",
   "execution_count": 77,
   "id": "fc034450-71e5-476d-a9c7-99e26cba7e1c",
   "metadata": {},
   "outputs": [],
   "source": [
    "df['Place'] = list(zip(df['Town'], df['County'], df['State']))\n",
    "df['Experiment'] = list(zip(df['College_Abbrev'], df['Year_Founded']))\n",
    "df2 = df[[\"Experiment\", \"Place\", \"Treatment\"]]"
   ]
  },
  {
   "cell_type": "code",
   "execution_count": 78,
   "id": "b0b817e7-6304-4305-bb7c-e5195ad5f725",
   "metadata": {},
   "outputs": [],
   "source": [
    "matched = df2.groupby([\"Experiment\", \"Treatment\"])[\"Place\"].agg(['unique']).reset_index()\n",
    "matched = matched.rename(columns = {\"unique\" : \"Place\"})"
   ]
  },
  {
   "cell_type": "code",
   "execution_count": 96,
   "id": "cc7a99a4-ed67-4ddf-9daf-8e0357388a3c",
   "metadata": {},
   "outputs": [
    {
     "data": {
      "text/html": [
       "<div>\n",
       "<style scoped>\n",
       "    .dataframe tbody tr th:only-of-type {\n",
       "        vertical-align: middle;\n",
       "    }\n",
       "\n",
       "    .dataframe tbody tr th {\n",
       "        vertical-align: top;\n",
       "    }\n",
       "\n",
       "    .dataframe thead th {\n",
       "        text-align: right;\n",
       "    }\n",
       "</style>\n",
       "<table border=\"1\" class=\"dataframe\">\n",
       "  <thead>\n",
       "    <tr style=\"text-align: right;\">\n",
       "      <th></th>\n",
       "      <th>Experiment</th>\n",
       "      <th>Treatment</th>\n",
       "      <th>Place</th>\n",
       "      <th>County</th>\n",
       "      <th>State</th>\n",
       "    </tr>\n",
       "  </thead>\n",
       "  <tbody>\n",
       "    <tr>\n",
       "      <th>0</th>\n",
       "      <td>(AkronU, 1870)</td>\n",
       "      <td>0</td>\n",
       "      <td>[(Kent, Portage, Ohio)]</td>\n",
       "      <td>[Portage]</td>\n",
       "      <td>[Ohio]</td>\n",
       "    </tr>\n",
       "    <tr>\n",
       "      <th>1</th>\n",
       "      <td>(AkronU, 1870)</td>\n",
       "      <td>1</td>\n",
       "      <td>[(Akron, Summit, Ohio)]</td>\n",
       "      <td>[Summit]</td>\n",
       "      <td>[Ohio]</td>\n",
       "    </tr>\n",
       "    <tr>\n",
       "      <th>2</th>\n",
       "      <td>(AlAMU, 1875)</td>\n",
       "      <td>0</td>\n",
       "      <td>[(Montgomery, Montgomery, Alabama), (Tuskeegee...</td>\n",
       "      <td>[Montgomery, Macon]</td>\n",
       "      <td>[Alabama, Alabama]</td>\n",
       "    </tr>\n",
       "    <tr>\n",
       "      <th>3</th>\n",
       "      <td>(AlAMU, 1875)</td>\n",
       "      <td>1</td>\n",
       "      <td>[(Huntsville, Madison, Alabama)]</td>\n",
       "      <td>[Madison]</td>\n",
       "      <td>[Alabama]</td>\n",
       "    </tr>\n",
       "    <tr>\n",
       "      <th>4</th>\n",
       "      <td>(AlcSU, 1871)</td>\n",
       "      <td>0</td>\n",
       "      <td>[(Corinth, Alcorn, Mississippi), (Okolona, Chi...</td>\n",
       "      <td>[Alcorn, Chickasaw, Marshall]</td>\n",
       "      <td>[Mississippi, Mississippi, Mississippi]</td>\n",
       "    </tr>\n",
       "  </tbody>\n",
       "</table>\n",
       "</div>"
      ],
      "text/plain": [
       "       Experiment  Treatment  \\\n",
       "0  (AkronU, 1870)          0   \n",
       "1  (AkronU, 1870)          1   \n",
       "2   (AlAMU, 1875)          0   \n",
       "3   (AlAMU, 1875)          1   \n",
       "4   (AlcSU, 1871)          0   \n",
       "\n",
       "                                               Place  \\\n",
       "0                            [(Kent, Portage, Ohio)]   \n",
       "1                            [(Akron, Summit, Ohio)]   \n",
       "2  [(Montgomery, Montgomery, Alabama), (Tuskeegee...   \n",
       "3                   [(Huntsville, Madison, Alabama)]   \n",
       "4  [(Corinth, Alcorn, Mississippi), (Okolona, Chi...   \n",
       "\n",
       "                          County                                    State  \n",
       "0                      [Portage]                                   [Ohio]  \n",
       "1                       [Summit]                                   [Ohio]  \n",
       "2            [Montgomery, Macon]                       [Alabama, Alabama]  \n",
       "3                      [Madison]                                [Alabama]  \n",
       "4  [Alcorn, Chickasaw, Marshall]  [Mississippi, Mississippi, Mississippi]  "
      ]
     },
     "execution_count": 96,
     "metadata": {},
     "output_type": "execute_result"
    }
   ],
   "source": [
    "matched[\"County\"] = [[tupule[1] for tupule in list] for list in matched[\"Place\"]]\n",
    "matched[\"State\"] = [[tupule[2] for tupule in list] for list in matched[\"Place\"]]\n",
    "matched.head()"
   ]
  }
 ],
 "metadata": {
  "kernelspec": {
   "display_name": "Python 3 (ipykernel)",
   "language": "python",
   "name": "python3"
  },
  "language_info": {
   "codemirror_mode": {
    "name": "ipython",
    "version": 3
   },
   "file_extension": ".py",
   "mimetype": "text/x-python",
   "name": "python",
   "nbconvert_exporter": "python",
   "pygments_lexer": "ipython3",
   "version": "3.11.7"
  }
 },
 "nbformat": 4,
 "nbformat_minor": 5
}
