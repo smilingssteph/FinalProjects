{
 "cells": [
  {
   "cell_type": "code",
   "execution_count": 1,
   "id": "972eadee-f616-4e3a-a047-a6e284512579",
   "metadata": {},
   "outputs": [],
   "source": [
    "import pandas as pd"
   ]
  },
  {
   "cell_type": "code",
   "execution_count": 37,
   "id": "020b52c7-a5e1-4118-947c-4dcb46c98812",
   "metadata": {},
   "outputs": [
    {
     "data": {
      "text/plain": [
       "Index(['Experiment', 'College', 'College_Abbrev', 'Town', 'County', 'State',\n",
       "       'Latitude', 'Longitude', 'Treatment', 'Preexisting_College', 'Politics',\n",
       "       'Existing_Site', 'Auction', 'Weather', 'Other', 'Year_Experiment',\n",
       "       'Year_Founded', 'Year_First_Class', 'Year_First_Graduates', 'Public',\n",
       "       'State_Flagship', 'Land_Grant', 'Technical_School', 'Normal_School',\n",
       "       'HBCU', 'Womens_College', 'Military_Academy',\n",
       "       'Loser_Receive_Consolation', 'Consolation_Prize', 'Value_Consolation',\n",
       "       'Value_State_Grant', 'Value_Local_Contribution',\n",
       "       'Local_Donate_Building', 'Votes_Received', 'Number of Ballots',\n",
       "       'Experiment_Quality'],\n",
       "      dtype='object')"
      ]
     },
     "execution_count": 37,
     "metadata": {},
     "output_type": "execute_result"
    }
   ],
   "source": [
    "df = pd.read_csv(\"data/College_Control_Towns.csv\")"
   ]
  },
  {
   "cell_type": "code",
   "execution_count": 39,
   "id": "fc034450-71e5-476d-a9c7-99e26cba7e1c",
   "metadata": {},
   "outputs": [],
   "source": [
    "df['Place'] = list(zip(df['Town'], df['County'], df['State']))\n",
    "df['Experiment'] = list(zip(df['College_Abbrev'], df['Year_Founded']))\n",
    "df2 = df[[\"Experiment\", \"Place\", \"Treatment\"]]"
   ]
  },
  {
   "cell_type": "code",
   "execution_count": 47,
   "id": "b0b817e7-6304-4305-bb7c-e5195ad5f725",
   "metadata": {},
   "outputs": [],
   "source": [
    "matched = df2.groupby([\"Experiment\", \"Treatment\"])[\"Place\"].agg(['unique']).reset_index()\n",
    "matched = matched.rename(columns = {\"unique\" : \"Place\"})"
   ]
  },
  {
   "cell_type": "code",
   "execution_count": 51,
   "id": "cc7a99a4-ed67-4ddf-9daf-8e0357388a3c",
   "metadata": {},
   "outputs": [
    {
     "data": {
      "text/plain": [
       "0      (AkronU, 1870)\n",
       "1      (AkronU, 1870)\n",
       "2       (AlAMU, 1875)\n",
       "3       (AlAMU, 1875)\n",
       "4       (AlcSU, 1871)\n",
       "            ...      \n",
       "394    (WidenU, 1821)\n",
       "395     (WilbU, 1856)\n",
       "396     (WilbU, 1856)\n",
       "397     (YaleU, 1685)\n",
       "398     (YaleU, 1685)\n",
       "Name: Experiment, Length: 399, dtype: object"
      ]
     },
     "execution_count": 51,
     "metadata": {},
     "output_type": "execute_result"
    }
   ],
   "source": [
    "matched[\"Experiment\"]"
   ]
  }
 ],
 "metadata": {
  "kernelspec": {
   "display_name": "Python 3 (ipykernel)",
   "language": "python",
   "name": "python3"
  },
  "language_info": {
   "codemirror_mode": {
    "name": "ipython",
    "version": 3
   },
   "file_extension": ".py",
   "mimetype": "text/x-python",
   "name": "python",
   "nbconvert_exporter": "python",
   "pygments_lexer": "ipython3",
   "version": "3.11.7"
  }
 },
 "nbformat": 4,
 "nbformat_minor": 5
}
