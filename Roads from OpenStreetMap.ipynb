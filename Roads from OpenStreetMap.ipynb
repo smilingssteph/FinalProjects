{
 "cells": [
  {
   "cell_type": "code",
   "execution_count": 7,
   "id": "92774989-eaaf-4568-a4dd-3689d499557e",
   "metadata": {},
   "outputs": [],
   "source": [
    "import osmnx as ox"
   ]
  },
  {
   "cell_type": "code",
   "execution_count": 5,
   "id": "725bcaeb-0c46-4fbe-862e-029f655d3981",
   "metadata": {},
   "outputs": [
    {
     "name": "stdout",
     "output_type": "stream",
     "text": [
      "400\n"
     ]
    }
   ],
   "source": [
    "bbox = (lat1, lon1, lat2, lon2)\n",
    "\n",
    "# Download the OpenStreetMap data for the bounding box\n",
    "graph = ox.graph_from_bbox(bbox)\n",
    "\n",
    "# You can further analyze the downloaded data using OSMnx functions\n",
    "# for network analysis, visualization, etc."
   ]
  }
 ],
 "metadata": {
  "kernelspec": {
   "display_name": "Python 3 (ipykernel)",
   "language": "python",
   "name": "python3"
  },
  "language_info": {
   "codemirror_mode": {
    "name": "ipython",
    "version": 3
   },
   "file_extension": ".py",
   "mimetype": "text/x-python",
   "name": "python",
   "nbconvert_exporter": "python",
   "pygments_lexer": "ipython3",
   "version": "3.11.7"
  }
 },
 "nbformat": 4,
 "nbformat_minor": 5
}
